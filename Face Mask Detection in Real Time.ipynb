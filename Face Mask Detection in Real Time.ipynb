{
 "cells": [
  {
   "cell_type": "markdown",
   "metadata": {},
   "source": [
    "# Name : Samer AlTaki\n",
    "### IOT & Computer Vision \n",
    "## Task4 : Face Mask Detection in Real Time"
   ]
  },
  {
   "cell_type": "markdown",
   "metadata": {},
   "source": [
    "  #  "
   ]
  },
  {
   "cell_type": "markdown",
   "metadata": {},
   "source": [
    "## 1.1Face Mask Detection in Real Time"
   ]
  },
  {
   "cell_type": "code",
   "execution_count": 5,
   "metadata": {},
   "outputs": [],
   "source": [
    "import numpy as np\n",
    "import keras\n",
    "import keras.backend as k\n",
    "from keras.layers import Conv2D,MaxPooling2D,SpatialDropout2D,Flatten,Dropout,Dense\n",
    "from keras.models import Sequential,load_model\n",
    "from tensorflow.keras.optimizers import Adam\n",
    "from keras.preprocessing import image\n",
    "import cv2\n",
    "import datetime"
   ]
  },
  {
   "cell_type": "code",
   "execution_count": 3,
   "metadata": {},
   "outputs": [
    {
     "name": "stdout",
     "output_type": "stream",
     "text": [
      "Found 1314 images belonging to 2 classes.\n",
      "Found 194 images belonging to 2 classes.\n"
     ]
    },
    {
     "name": "stderr",
     "output_type": "stream",
     "text": [
      "<ipython-input-3-149eee34bb26>:28: UserWarning: `Model.fit_generator` is deprecated and will be removed in a future version. Please use `Model.fit`, which supports generators.\n",
      "  model_saved=model.fit_generator(training_set,epochs=10,validation_data=test_set)\n"
     ]
    },
    {
     "name": "stdout",
     "output_type": "stream",
     "text": [
      "Epoch 1/10\n",
      "83/83 [==============================] - 101s 1s/step - loss: 0.4050 - accuracy: 0.8204 - val_loss: 0.1660 - val_accuracy: 0.9485\n",
      "Epoch 2/10\n",
      "83/83 [==============================] - 92s 1s/step - loss: 0.1554 - accuracy: 0.9346 - val_loss: 0.1043 - val_accuracy: 0.9691\n",
      "Epoch 3/10\n",
      "83/83 [==============================] - 88s 1s/step - loss: 0.1205 - accuracy: 0.9574 - val_loss: 0.1307 - val_accuracy: 0.9381\n",
      "Epoch 4/10\n",
      "83/83 [==============================] - 90s 1s/step - loss: 0.1202 - accuracy: 0.9543 - val_loss: 0.1298 - val_accuracy: 0.9691\n",
      "Epoch 5/10\n",
      "83/83 [==============================] - 93s 1s/step - loss: 0.1302 - accuracy: 0.9498 - val_loss: 0.0909 - val_accuracy: 0.9536\n",
      "Epoch 6/10\n",
      "83/83 [==============================] - 89s 1s/step - loss: 0.0774 - accuracy: 0.9741 - val_loss: 0.0769 - val_accuracy: 0.9691\n",
      "Epoch 7/10\n",
      "83/83 [==============================] - 92s 1s/step - loss: 0.0741 - accuracy: 0.9756 - val_loss: 0.0701 - val_accuracy: 0.9639\n",
      "Epoch 8/10\n",
      "83/83 [==============================] - 89s 1s/step - loss: 0.0522 - accuracy: 0.9810 - val_loss: 0.0974 - val_accuracy: 0.9742\n",
      "Epoch 9/10\n",
      "83/83 [==============================] - 87s 1s/step - loss: 0.0567 - accuracy: 0.9810 - val_loss: 0.0955 - val_accuracy: 0.9536\n",
      "Epoch 10/10\n",
      "83/83 [==============================] - 88s 1s/step - loss: 0.0353 - accuracy: 0.9863 - val_loss: 0.0947 - val_accuracy: 0.9742\n"
     ]
    }
   ],
   "source": [
    "# BUILDING MODEL TO CLASSIFY BETWEEN MASK AND NO MASK\n",
    "\n",
    "model=Sequential()\n",
    "model.add(Conv2D(32,(3,3),activation='relu',input_shape=(150,150,3)))\n",
    "model.add(MaxPooling2D() )\n",
    "model.add(Conv2D(32,(3,3),activation='relu'))\n",
    "model.add(MaxPooling2D() )\n",
    "model.add(Conv2D(32,(3,3),activation='relu'))\n",
    "model.add(MaxPooling2D() )\n",
    "model.add(Flatten())\n",
    "model.add(Dense(100,activation='relu'))\n",
    "model.add(Dense(1,activation='sigmoid'))\n",
    "\n",
    "model.compile(optimizer='adam',loss='binary_crossentropy',metrics=['accuracy'])\n",
    "\n",
    "\n",
    "\n",
    "from keras.preprocessing.image import ImageDataGenerator\n",
    "\n",
    "train_datagen = ImageDataGenerator(rescale=1./255,shear_range=0.2,zoom_range=0.2,horizontal_flip=True)\n",
    "\n",
    "test_datagen = ImageDataGenerator(rescale=1./255)\n",
    "\n",
    "training_set = train_datagen.flow_from_directory('train',target_size=(150,150),batch_size=16 ,class_mode='binary')\n",
    "\n",
    "test_set = test_datagen.flow_from_directory('test',target_size=(150,150),batch_size=16,class_mode='binary')\n",
    "\n",
    "model_saved=model.fit_generator(training_set,epochs=10,validation_data=test_set)\n",
    "\n",
    "model.save('FMmodel.h5',model_saved)"
   ]
  },
  {
   "cell_type": "code",
   "execution_count": 6,
   "metadata": {},
   "outputs": [],
   "source": [
    "# IMPLEMENTING LIVE DETECTION OF FACE MASK\n",
    "\n",
    "mymodel=load_model('FMmodel.h5')\n",
    "\n",
    "#cap=cv2.VideoCapture(0)\n",
    "cap = cv2.VideoCapture('test_video.mp4')\n",
    "\n",
    "face_cascade=cv2.CascadeClassifier('haarcascade_frontalface_default.xml')\n",
    "\n",
    "while cap.isOpened():\n",
    "    _,img=cap.read()\n",
    "    face=face_cascade.detectMultiScale(img,scaleFactor=1.1,minNeighbors=4)\n",
    "    for(x,y,w,h) in face:\n",
    "        face_img = img[y:y+h, x:x+w]\n",
    "        cv2.imwrite('temp.jpg',face_img)\n",
    "        test_image=image.load_img('temp.jpg',target_size=(150,150,3))\n",
    "        test_image=image.img_to_array(test_image)\n",
    "        test_image=np.expand_dims(test_image,axis=0)\n",
    "        pred=mymodel.predict(test_image)[0][0]\n",
    "        if pred==1:\n",
    "            cv2.rectangle(img,(x,y),(x+w,y+h),(0,0,255),3)\n",
    "            cv2.putText(img,'NO MASK',((x+w)//2,y+h+20),cv2.FONT_HERSHEY_SIMPLEX,1,(0,0,255),3)\n",
    "        else:\n",
    "            cv2.rectangle(img,(x,y),(x+w,y+h),(0,255,0),3)\n",
    "            cv2.putText(img,'MASK',((x+w)//2,y+h+20),cv2.FONT_HERSHEY_SIMPLEX,1,(0,255,0),3)\n",
    "        datet=str(datetime.datetime.now())\n",
    "        cv2.putText(img,datet,(400,450),cv2.FONT_HERSHEY_SIMPLEX,0.5,(255,255,255),1)\n",
    "          \n",
    "    cv2.imshow('img',img)\n",
    "    \n",
    "    if cv2.waitKey(1)==ord('q'):\n",
    "        break\n",
    "    \n",
    "cap.release()\n",
    "cv2.destroyAllWindows()"
   ]
  },
  {
   "cell_type": "code",
   "execution_count": null,
   "metadata": {},
   "outputs": [],
   "source": []
  }
 ],
 "metadata": {
  "kernelspec": {
   "display_name": "Python 3",
   "language": "python",
   "name": "python3"
  },
  "language_info": {
   "codemirror_mode": {
    "name": "ipython",
    "version": 3
   },
   "file_extension": ".py",
   "mimetype": "text/x-python",
   "name": "python",
   "nbconvert_exporter": "python",
   "pygments_lexer": "ipython3",
   "version": "3.8.3"
  }
 },
 "nbformat": 4,
 "nbformat_minor": 4
}
